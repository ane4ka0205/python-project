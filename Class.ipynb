{
 "cells": [
  {
   "cell_type": "code",
   "execution_count": 1,
   "metadata": {},
   "outputs": [],
   "source": [
    "class Human:\n",
    "    pass"
   ]
  },
  {
   "cell_type": "code",
   "execution_count": 2,
   "metadata": {},
   "outputs": [],
   "source": [
    "user1 = Human()\n",
    "user1.fname = 'John'\n",
    "user1.lastname = 'Miller'\n",
    "user1.gender = 'male'\n",
    "user1.status = False "
   ]
  },
  {
   "cell_type": "code",
   "execution_count": 3,
   "metadata": {},
   "outputs": [
    {
     "name": "stdout",
     "output_type": "stream",
     "text": [
      "John\n"
     ]
    }
   ],
   "source": [
    "print(user1.fname)"
   ]
  },
  {
   "cell_type": "code",
   "execution_count": 7,
   "metadata": {},
   "outputs": [
    {
     "name": "stdout",
     "output_type": "stream",
     "text": [
      "John\n"
     ]
    }
   ],
   "source": [
    "example_user = {\n",
    "    'fname': 'John',\n",
    "    'lname': 'Kyle',\n",
    "    'gender': 'male',\n",
    "    'status': False\n",
    "}\n",
    "print(example_user['fname'])"
   ]
  },
  {
   "cell_type": "code",
   "execution_count": 52,
   "metadata": {},
   "outputs": [
    {
     "name": "stdout",
     "output_type": "stream",
     "text": [
      "[]\n",
      "Matt has been added to database\n",
      "Emma has been added to database\n",
      "[{'First Name': 'Matt', 'Last Name': 'Mill', 'Gender': 'male', 'Status': True}, {'First Name': 'Emma', 'Last Name': 'Miller', 'Gender': 'male', 'Status': False}]\n"
     ]
    }
   ],
   "source": [
    "dataBase = []\n",
    "class Sttudent(object):\n",
    "    def __init__(self, givenFirstName, givenLastName, givenGender, givenStatus=None):\n",
    "        self.fname = givenFirstName\n",
    "        self.lname = givenLastName\n",
    "        self.gender = givenGender\n",
    "        self.status = givenStatus\n",
    "        if givenStatus is None:\n",
    "            self.status = False\n",
    "        \n",
    "        \n",
    "    def print_info(self):\n",
    "        print(f'Hello,\\nMy name is {self.fname}')\n",
    "        \n",
    "    def save_info(self):\n",
    "        dataBase.append({'First Name': self.fname, \n",
    "                'Last Name': self.lname,\n",
    "                'Gender': self.gender,\n",
    "                'Status': self.status\n",
    "               })\n",
    "        print(f'{self.fname} has been added to database')\n",
    "\n",
    "class Manager(Student):\n",
    "    def delete_user(self, name):\n",
    "        for user in dataBase:\n",
    "            if name in user['First Name']:\n",
    "                dataBase.remove(user)\n",
    "                print('User has been deleted')\n",
    "                break\n",
    "            else:\n",
    "                print('User not found')\n",
    "                \n",
    "user1 = Student('Matt', 'Mill', 'male', True)\n",
    "user2 = Student('Emma', 'Miller', 'female')\n",
    "user3 = Manager('Tom', 'Backer', 'male', True)\n",
    "\n",
    "print(dataBase)\n",
    "user1.save_info()\n",
    "user2.save_info()\n",
    "print(dataBase)\n"
   ]
  },
  {
   "cell_type": "code",
   "execution_count": 32,
   "metadata": {},
   "outputs": [],
   "source": []
  },
  {
   "cell_type": "code",
   "execution_count": null,
   "metadata": {},
   "outputs": [],
   "source": []
  }
 ],
 "metadata": {
  "kernelspec": {
   "display_name": "Python 3",
   "language": "python",
   "name": "python3"
  },
  "language_info": {
   "codemirror_mode": {
    "name": "ipython",
    "version": 3
   },
   "file_extension": ".py",
   "mimetype": "text/x-python",
   "name": "python",
   "nbconvert_exporter": "python",
   "pygments_lexer": "ipython3",
   "version": "3.6.5"
  }
 },
 "nbformat": 4,
 "nbformat_minor": 2
}
