{
 "cells": [
  {
   "cell_type": "code",
   "execution_count": 1,
   "metadata": {},
   "outputs": [
    {
     "name": "stdout",
     "output_type": "stream",
     "text": [
      "Collecting requests\n",
      "  Downloading https://files.pythonhosted.org/packages/51/bd/23c926cd341ea6b7dd0b2a00aba99ae0f828be89d72b2190f27c11d4b7fb/requests-2.22.0-py2.py3-none-any.whl (57kB)\n",
      "\u001b[K    100% |################################| 61kB 2.3MB/s ta 0:00:011\n",
      "\u001b[?25hCollecting certifi>=2017.4.17 (from requests)\n",
      "  Downloading https://files.pythonhosted.org/packages/69/1b/b853c7a9d4f6a6d00749e94eb6f3a041e342a885b87340b79c1ef73e3a78/certifi-2019.6.16-py2.py3-none-any.whl (157kB)\n",
      "\u001b[K    100% |################################| 163kB 5.8MB/s eta 0:00:01\n",
      "\u001b[?25hCollecting idna<2.9,>=2.5 (from requests)\n",
      "  Downloading https://files.pythonhosted.org/packages/14/2c/cd551d81dbe15200be1cf41cd03869a46fe7226e7450af7a6545bfc474c9/idna-2.8-py2.py3-none-any.whl (58kB)\n",
      "\u001b[K    100% |################################| 61kB 8.0MB/s eta 0:00:01\n",
      "\u001b[?25hCollecting urllib3!=1.25.0,!=1.25.1,<1.26,>=1.21.1 (from requests)\n",
      "  Downloading https://files.pythonhosted.org/packages/e6/60/247f23a7121ae632d62811ba7f273d0e58972d75e58a94d329d51550a47d/urllib3-1.25.3-py2.py3-none-any.whl (150kB)\n",
      "\u001b[K    100% |################################| 153kB 6.5MB/s eta 0:00:01\n",
      "\u001b[?25hCollecting chardet<3.1.0,>=3.0.2 (from requests)\n",
      "  Downloading https://files.pythonhosted.org/packages/bc/a9/01ffebfb562e4274b6487b4bb1ddec7ca55ec7510b22e4c51f14098443b8/chardet-3.0.4-py2.py3-none-any.whl (133kB)\n",
      "\u001b[K    100% |################################| 143kB 7.1MB/s eta 0:00:01\n",
      "\u001b[?25hInstalling collected packages: certifi, idna, urllib3, chardet, requests\n",
      "Successfully installed certifi-2019.6.16 chardet-3.0.4 idna-2.8 requests-2.22.0 urllib3-1.25.3\n",
      "\u001b[33mYou are using pip version 9.0.1, however version 19.1.1 is available.\n",
      "You should consider upgrading via the 'pip install --upgrade pip' command.\u001b[0m\n"
     ]
    }
   ],
   "source": [
    "!python3.6 -m pip install requests"
   ]
  },
  {
   "cell_type": "code",
   "execution_count": 3,
   "metadata": {},
   "outputs": [
    {
     "name": "stdout",
     "output_type": "stream",
     "text": [
      "<Response [200]>\n"
     ]
    }
   ],
   "source": [
    "import requests\n",
    "response = requests.get('https://api.academy.fuchicorp.com/')\n",
    "print(response)\n"
   ]
  },
  {
   "cell_type": "code",
   "execution_count": 4,
   "metadata": {},
   "outputs": [
    {
     "name": "stdout",
     "output_type": "stream",
     "text": [
      "{'anonymus': True, 'email': 'fuchicorpsolution@gmail.com', 'message': 'Welcome to FuchiCorp API', 'owner': 'Farkhod Sadykov', 'status': 200}\n"
     ]
    }
   ],
   "source": [
    "#convert the response into json format\n",
    "\n",
    "import requests\n",
    "response = requests.get('https://api.academy.fuchicorp.com/').json()\n",
    "print(response)"
   ]
  },
  {
   "cell_type": "code",
   "execution_count": 5,
   "metadata": {},
   "outputs": [
    {
     "name": "stdout",
     "output_type": "stream",
     "text": [
      "Welcome to FuchiCorp API\n"
     ]
    }
   ],
   "source": [
    "import requests\n",
    "response = requests.get('https://api.academy.fuchicorp.com/').json()\n",
    "print(response['message'])"
   ]
  },
  {
   "cell_type": "code",
   "execution_count": 7,
   "metadata": {},
   "outputs": [
    {
     "name": "stdout",
     "output_type": "stream",
     "text": [
      "something is wrong\n"
     ]
    }
   ],
   "source": [
    "#if the page is not working properly you can use if statement\n",
    "import requests\n",
    "response = requests.get('https://api.academy.fuchicorp.com/example')\n",
    "if response.status_code == 200:\n",
    "    print(response.json())\n",
    "else:\n",
    "    print(\"something is wrong\")"
   ]
  },
  {
   "cell_type": "code",
   "execution_count": 17,
   "metadata": {},
   "outputs": [
    {
     "name": "stdout",
     "output_type": "stream",
     "text": [
      "{'message': 'User already exist in system!!'}\n"
     ]
    }
   ],
   "source": [
    "import requests\n",
    "url = 'https://api.academy.fuchicorp.com/v0.1/create_example/user'\n",
    "user = {}\n",
    "user['username'] = 'annam'\n",
    "user['password'] = 'redhat'\n",
    "user['firstname'] = 'Anna'\n",
    "user['lastname'] = 'M'\n",
    "user['email'] = 'aamalanova@gmail.com'\n",
    "response = requests.post(url, json=user)\n",
    "print(response.json())"
   ]
  },
  {
   "cell_type": "code",
   "execution_count": null,
   "metadata": {},
   "outputs": [],
   "source": []
  },
  {
   "cell_type": "code",
   "execution_count": 28,
   "metadata": {},
   "outputs": [
    {
     "name": "stdout",
     "output_type": "stream",
     "text": [
      "{'message': 'User already exist in system!!'}\n"
     ]
    }
   ],
   "source": [
    "import requests\n",
    "user_id = '2ab49f25-cdf0-4192-af82-fb2115c0de36'\n",
    "\n",
    "update_url = f'https://api.academy.fuchicorp.com/v0.1/update_example/user/{user_id}'\n",
    "updated_user = {\n",
    "    'username': 'irinaw',\n",
    "    'password': 'strongpassword',\n",
    "    'firstname': 'Irina',\n",
    "    'lastname': 'White',\n",
    "    'email': 'anna@test.com'\n",
    "}\n",
    "response = requests.put(update_url, json=updated_user)\n",
    "if response.status_code == 200:\n",
    "    print(response.json())\n",
    "else:\n",
    "    print('Something is wrong')"
   ]
  },
  {
   "cell_type": "code",
   "execution_count": 29,
   "metadata": {},
   "outputs": [
    {
     "name": "stdout",
     "output_type": "stream",
     "text": [
      "{'message': 'User has been deleted!!', 'user_id': '2ab49f25-cdf0-4192-af82-fb2115c0de36'}\n"
     ]
    }
   ],
   "source": [
    "import requests\n",
    "user_id = '2ab49f25-cdf0-4192-af82-fb2115c0de36'\n",
    "\n",
    "delete_url = f'https://api.academy.fuchicorp.com/v0.1/delete_example/user/{user_id}'\n",
    "to_delete_user = {\n",
    "    'username': 'annam',\n",
    "    'password': 'redhat',\n",
    "}\n",
    "response = requests.delete(delete_url, json=to_delete_user)\n",
    "if response.status_code == 200:\n",
    "    print(response.json())\n",
    "else:\n",
    "    print('Something is wrong')"
   ]
  },
  {
   "cell_type": "code",
   "execution_count": null,
   "metadata": {},
   "outputs": [],
   "source": []
  }
 ],
 "metadata": {
  "kernelspec": {
   "display_name": "Python 3",
   "language": "python",
   "name": "python3"
  },
  "language_info": {
   "codemirror_mode": {
    "name": "ipython",
    "version": 3
   },
   "file_extension": ".py",
   "mimetype": "text/x-python",
   "name": "python",
   "nbconvert_exporter": "python",
   "pygments_lexer": "ipython3",
   "version": "3.6.5"
  }
 },
 "nbformat": 4,
 "nbformat_minor": 2
}
