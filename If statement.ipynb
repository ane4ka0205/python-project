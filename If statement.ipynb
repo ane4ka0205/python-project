{
 "cells": [
  {
   "cell_type": "code",
   "execution_count": null,
   "metadata": {},
   "outputs": [],
   "source": [
    "door = 'fdsfdf'\n",
    "if door == 'open':\n",
    "    print('Yes, you can go')\n",
    "elif door == 'close':\n",
    "    print(\"No, you can't go\")\n",
    "else:\n",
    "    print('something is wrong')"
   ]
  },
  {
   "cell_type": "code",
   "execution_count": null,
   "metadata": {},
   "outputs": [],
   "source": [
    "name = input('What is your name?: ')\n",
    "name = name.capitalize()\n",
    "if name == 'Anna':\n",
    "    print('Privet ' + name)\n",
    "elif name == 'Farkhod':\n",
    "    print('Salam ' + name)\n",
    "else:\n",
    "    print('Hi ' + name)\n",
    "# print('Hello ' + name)"
   ]
  },
  {
   "cell_type": "code",
   "execution_count": null,
   "metadata": {},
   "outputs": [],
   "source": [
    "black_list = ['Abdul', 'Farkhod', 'Florin']\n",
    "student = input('What is your name?: ')\n",
    "\n",
    "student = student.capitalize()\n",
    "\n",
    "if student in black_list:\n",
    "    print('He is in the blacklist')\n",
    "else:\n",
    "    print('Welcome')\n",
    "    \n"
   ]
  },
  {
   "cell_type": "code",
   "execution_count": 2,
   "metadata": {},
   "outputs": [
    {
     "name": "stdout",
     "output_type": "stream",
     "text": [
      "What is your name?: anna\n",
      "When is your birthday <year>?: 1991\n",
      "Your name is: Anna and age is: 28\n"
     ]
    }
   ],
   "source": [
    "name = input('What is your name?: ').capitalize()\n",
    "year = int(input('When is your birthday <year>?: '))\n",
    "\n",
    "now = 2019\n",
    "age = now - year\n",
    "print(f'Your name is: {name} and age is: {age}')"
   ]
  },
  {
   "cell_type": "code",
   "execution_count": 3,
   "metadata": {},
   "outputs": [
    {
     "name": "stdout",
     "output_type": "stream",
     "text": [
      "It is open\n"
     ]
    }
   ],
   "source": [
    "door = True\n",
    "if door:\n",
    "    print('It is open')\n",
    "else:\n",
    "    print('it is close')"
   ]
  },
  {
   "cell_type": "code",
   "execution_count": 26,
   "metadata": {},
   "outputs": [
    {
     "name": "stdout",
     "output_type": "stream",
     "text": [
      "###########################################\n",
      "######## information about Abdul Sharif####\n",
      "###########################################\n",
      "##Username is: asharif######\n",
      "Student is disable\n"
     ]
    }
   ],
   "source": [
    "student = {\n",
    "    'first_name': 'Abdul', \n",
    "    'last_name': 'Sharif', \n",
    "    'username': 'asharif',\n",
    "    'password': 'redhat',\n",
    "    'status': False,\n",
    "    'classes': ['Python', 'Terraform', 'Ansible']\n",
    "}\n",
    "print('###########################################')\n",
    "print(f'######## information about {student[\"first_name\"]} {student[\"last_name\"]}####')\n",
    "print('###########################################')\n",
    "print(f'##Username is: {student[\"username\"]}######')\n",
    "if student['status']:\n",
    "      print('Student is enable')\n",
    "else:\n",
    "      print('Student is disable')"
   ]
  },
  {
   "cell_type": "code",
   "execution_count": null,
   "metadata": {},
   "outputs": [],
   "source": []
  },
  {
   "cell_type": "code",
   "execution_count": null,
   "metadata": {},
   "outputs": [],
   "source": []
  },
  {
   "cell_type": "code",
   "execution_count": null,
   "metadata": {},
   "outputs": [],
   "source": []
  },
  {
   "cell_type": "code",
   "execution_count": null,
   "metadata": {},
   "outputs": [],
   "source": []
  },
  {
   "cell_type": "code",
   "execution_count": null,
   "metadata": {},
   "outputs": [],
   "source": []
  },
  {
   "cell_type": "code",
   "execution_count": null,
   "metadata": {},
   "outputs": [],
   "source": []
  },
  {
   "cell_type": "code",
   "execution_count": null,
   "metadata": {},
   "outputs": [],
   "source": []
  },
  {
   "cell_type": "code",
   "execution_count": null,
   "metadata": {},
   "outputs": [],
   "source": []
  },
  {
   "cell_type": "code",
   "execution_count": null,
   "metadata": {},
   "outputs": [],
   "source": []
  },
  {
   "cell_type": "code",
   "execution_count": null,
   "metadata": {},
   "outputs": [],
   "source": []
  },
  {
   "cell_type": "code",
   "execution_count": null,
   "metadata": {},
   "outputs": [],
   "source": []
  }
 ],
 "metadata": {
  "kernelspec": {
   "display_name": "Python 3",
   "language": "python",
   "name": "python3"
  },
  "language_info": {
   "codemirror_mode": {
    "name": "ipython",
    "version": 3
   },
   "file_extension": ".py",
   "mimetype": "text/x-python",
   "name": "python",
   "nbconvert_exporter": "python",
   "pygments_lexer": "ipython3",
   "version": "3.6.5"
  }
 },
 "nbformat": 4,
 "nbformat_minor": 2
}
