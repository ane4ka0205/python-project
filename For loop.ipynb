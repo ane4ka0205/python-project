{
 "cells": [
  {
   "cell_type": "code",
   "execution_count": null,
   "metadata": {},
   "outputs": [],
   "source": [
    "users = ['Abdul', 'Nodira', 'Zhanna']\n",
    "for user in users:\n",
    "    print(user)\n"
   ]
  },
  {
   "cell_type": "code",
   "execution_count": null,
   "metadata": {},
   "outputs": [],
   "source": [
    "for num in range(0, 3):\n",
    "    print(num, 'hello')"
   ]
  },
  {
   "cell_type": "code",
   "execution_count": null,
   "metadata": {},
   "outputs": [],
   "source": [
    "data = [\n",
    "    {\n",
    "    \"avatar\": \"https://s3.amazonaws.com/uifaces/faces/twitter/marcoramires/128.jpg\",\n",
    "    \"first_name\": \"Eve\",\n",
    "    \"id\": 4,\n",
    "    \"last_name\": \"Holt\"\n",
    "    },\n",
    "    {\n",
    "    \"avatar\": \"https://s3.amazonaws.com/uifaces/faces/twitter/stephenmoon/128.jpg\",\n",
    "    \"first_name\": \"Charles\",\n",
    "    \"id\": 5,\n",
    "    \"last_name\": \"Morris\"\n",
    "    },\n",
    "    {\n",
    "    \"avatar\": \"https://s3.amazonaws.com/uifaces/faces/twitter/bigmancho/128.jpg\",\n",
    "    \"first_name\": \"Tracey\",\n",
    "    \"id\": 6,\n",
    "    \"last_name\": \"Ramos\"\n",
    "    }\n",
    "]\n",
    "\n",
    "fileteredList = []\n",
    "for user in data:\n",
    "    if user['first_name'] == 'Charles':\n",
    "        fileteredList.append(user['avatar'])\n",
    "        \n",
    "        \n",
    "print(fileteredList[0])"
   ]
  },
  {
   "cell_type": "code",
   "execution_count": null,
   "metadata": {},
   "outputs": [],
   "source": []
  },
  {
   "cell_type": "code",
   "execution_count": null,
   "metadata": {},
   "outputs": [],
   "source": []
  },
  {
   "cell_type": "code",
   "execution_count": null,
   "metadata": {},
   "outputs": [],
   "source": [
    "my_string = 'This is my string'\n",
    "print(my_string)\n",
    "\n",
    "for item in my_string.split(' '):\n",
    "    print(item)\n",
    "    \n",
    "for item in my_string.split(' '):\n",
    "    if 'This' == item:\n",
    "        print('Yes it is')"
   ]
  },
  {
   "cell_type": "code",
   "execution_count": null,
   "metadata": {},
   "outputs": [],
   "source": [
    "import os\n",
    "users = ['Anna', 'Zhanna', 'Abdul', 'Alibek']\n",
    "for user in users:\n",
    "    print(user)\n",
    "    os.system(f'mkdir /{user}')"
   ]
  },
  {
   "cell_type": "code",
   "execution_count": null,
   "metadata": {},
   "outputs": [],
   "source": []
  },
  {
   "cell_type": "code",
   "execution_count": null,
   "metadata": {},
   "outputs": [],
   "source": [
    "!cat /etc/passwd"
   ]
  },
  {
   "cell_type": "code",
   "execution_count": null,
   "metadata": {},
   "outputs": [],
   "source": [
    "import os\n",
    "users = ['Anna', 'Zhanna', 'Abdul', 'Alibek']\n",
    "my_pub_key = 'ssh-rsa AAAAB3NzaC1yc2EAAAADAQABAAABAQDHThalyM3uM5TWKttnQUL3eRfEOK4TnFkuHlIL7UXNn34PwnPYULJukewmzk4IE+PNl/flS+PC6SJyQ3zcYUufDRZihvOvkvuTEHCNoN5fkKPASCRiwIyXZoYKGxFG6r0r9bsDtleuVL94Li9fhi5QOakUHwC74+GxoFKYBXvybdDIuCV1F2PQ38wkdDUTCoRxX1P8yTzSeN9VSIROxYrR7DdQw5dd1sVfOJgO0QckFSXoBIv09f66zBQE9D6AbQwi63EPfYInMTxLgHagraRROnYx0IezwQUrd2X/OQEpqGu7/rAIiqru0V4+JKDoPD0Ydl1c0OzTJELY8ZxIX1zh fsadykov@Fs-MacBook-Pro.local'\n",
    "for user in users:\n",
    "    print(user)\n",
    "    os.system(f'useradd {user}')\n",
    "    os.system(f'mkdir  /home/{user}/.ssh')\n",
    "    os.system(f'echo {my_pub_key}  >>  /home/{user}/.ssh/authorized_keys')"
   ]
  },
  {
   "cell_type": "code",
   "execution_count": null,
   "metadata": {},
   "outputs": [],
   "source": [
    "for user in data:\n",
    "    if 'Anna' == user['first_name']:\n",
    "        print('User is found')\n",
    "else:\n",
    "    print('User did not found')"
   ]
  },
  {
   "cell_type": "code",
   "execution_count": null,
   "metadata": {},
   "outputs": [],
   "source": [
    "student = {'username' : 'aaaa',\n",
    "           'password' : 'redhat',\n",
    "           'classes' : ['Python', 'Ansible', 'Terraform']}\n",
    "\n",
    "print(f'{student[\"username\"]}')\n",
    "for item in student['classes']:\n",
    "    print(item)"
   ]
  },
  {
   "cell_type": "code",
   "execution_count": 3,
   "metadata": {},
   "outputs": [
    {
     "name": "stdout",
     "output_type": "stream",
     "text": [
      "Please enter your Full name: aaa\n",
      "Please enter your username: aaa\n",
      "Please enter password: aaa\n",
      "User has been created\n",
      "[{'username': 'aaa', 'password': 'aaa'}]\n",
      "Do you wanna stop it yes/no?: yes\n",
      "Bye\n"
     ]
    }
   ],
   "source": [
    "registeredUser = []\n",
    "while True:\n",
    "    studentObject = {}\n",
    "    studentObject['username'] = input('Please enter your Full name: ')\n",
    "    studentObject['username'] = input('Please enter your username: ')\n",
    "    studentObject['password'] = input('Please enter password: ')\n",
    "    registeredUser.append(studentObject)\n",
    "    print('User has been created')\n",
    "    answer = input('Do you wanna stop it yes/no?: ')\n",
    "    if answer == 'yes':\n",
    "        print('Bye')\n",
    "        break\n",
    "    "
   ]
  },
  {
   "cell_type": "code",
   "execution_count": 4,
   "metadata": {},
   "outputs": [
    {
     "name": "stdout",
     "output_type": "stream",
     "text": [
      "[{'username': 'aaa', 'password': 'aaa'}]\n"
     ]
    }
   ],
   "source": [
    "print(registeredUser)"
   ]
  },
  {
   "cell_type": "code",
   "execution_count": null,
   "metadata": {},
   "outputs": [],
   "source": []
  },
  {
   "cell_type": "code",
   "execution_count": null,
   "metadata": {},
   "outputs": [],
   "source": []
  },
  {
   "cell_type": "code",
   "execution_count": null,
   "metadata": {},
   "outputs": [],
   "source": []
  },
  {
   "cell_type": "code",
   "execution_count": null,
   "metadata": {},
   "outputs": [],
   "source": []
  },
  {
   "cell_type": "code",
   "execution_count": null,
   "metadata": {},
   "outputs": [],
   "source": []
  }
 ],
 "metadata": {
  "kernelspec": {
   "display_name": "Python 3",
   "language": "python",
   "name": "python3"
  }
 },
 "nbformat": 4,
 "nbformat_minor": 2
}
